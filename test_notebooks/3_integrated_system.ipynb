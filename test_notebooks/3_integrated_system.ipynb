{
 "cells": [
  {
   "cell_type": "code",
   "execution_count": 5,
   "id": "176492c0",
   "metadata": {},
   "outputs": [
    {
     "name": "stdout",
     "output_type": "stream",
     "text": [
      "✅ Integrated motion + face recognition system ready!\n"
     ]
    }
   ],
   "source": [
    "\n",
    "# Cell 1: Setup\n",
    "import sys\n",
    "import os\n",
    "\n",
    "# Add project path\n",
    "project_dir = os.path.abspath('..')\n",
    "if project_dir not in sys.path:\n",
    "    sys.path.append(project_dir)\n",
    "\n",
    "from src.processing.integrated_system import quick_integrated_system, quick_system_status\n",
    "\n",
    "print(\"✅ Integrated motion + face recognition system ready!\")"
   ]
  },
  {
   "cell_type": "code",
   "execution_count": 6,
   "id": "c424ffa7",
   "metadata": {},
   "outputs": [
    {
     "name": "stdout",
     "output_type": "stream",
     "text": [
      "📊 Checking system status...\n",
      "📊 System Status:\n",
      "   - Face samples: 5\n",
      "   - Recognition events: 205\n",
      "👥 Enrolled people:\n",
      "   - Trung: 5 samples\n",
      "✅ System ready with enrolled faces!\n"
     ]
    }
   ],
   "source": [
    "# Cell 2: Check System Status\n",
    "print(\"📊 Checking system status...\")\n",
    "status = quick_system_status()\n",
    "\n",
    "if status['faces'] == 0:\n",
    "    print(\"⚠️ No faces enrolled! Run face enrollment first.\")\n",
    "else:\n",
    "    print(\"✅ System ready with enrolled faces!\")"
   ]
  },
  {
   "cell_type": "code",
   "execution_count": 7,
   "id": "a895b8f6",
   "metadata": {},
   "outputs": [
    {
     "name": "stdout",
     "output_type": "stream",
     "text": [
      "🚀 Running integrated system for 30 seconds...\n",
      "🔧 Initializing system components...\n",
      "   ✅ Video stream: 640x480 @ 30.0fps\n",
      "   ✅ Motion detector initialized\n",
      "   ✅ Face database: 5 face samples loaded\n",
      "   ✅ Integrated processor ready\n",
      "\n",
      "🚀 System initialized with 5 known faces!\n",
      "🎬 Starting integrated system...\n",
      "📋 Instructions:\n",
      "   - Move to trigger motion detection\n",
      "   - Face recognition activates when motion detected\n",
      "   - Press 'q' to quit, 's' for stats\n",
      "\n",
      "⏰ Starting in 3 seconds...\n",
      "\n",
      "⏰ Duration limit (30s) reached\n",
      "\n",
      "🏁 Session Complete (30.3s)\n",
      "\n",
      "📊 Statistics (30.3s):\n",
      "   - frames_processed: 124\n",
      "   - motion_detected: 61\n",
      "   - faces_detected: 45\n",
      "   - faces_recognized: 22\n",
      "   - recognition_events: 17\n",
      "\n",
      "📊 Recognition events: 10\n",
      "   1. Trung (confidence: 0.61) at 15:12:51\n",
      "   2. Trung (confidence: 0.60) at 15:12:51\n",
      "   3. Trung (confidence: 0.64) at 15:12:50\n",
      "   4. Trung (confidence: 0.66) at 15:12:47\n",
      "   5. Trung (confidence: 0.61) at 15:12:47\n",
      "✅ System cleanup complete\n",
      "\n",
      "🎉 Session complete!\n",
      "📊 Final stats: {'frames_processed': 124, 'motion_detected': 61, 'faces_detected': 45, 'faces_recognized': 22, 'recognition_events': 17}\n"
     ]
    }
   ],
   "source": [
    "# Cell 3: Run Integrated System (30 seconds)\n",
    "print(\"🚀 Running integrated system for 30 seconds...\")\n",
    "stats = quick_integrated_system(duration=30)\n",
    "\n",
    "print(f\"\\n🎉 Session complete!\")\n",
    "print(f\"📊 Final stats: {stats}\")"
   ]
  },
  {
   "cell_type": "code",
   "execution_count": 8,
   "id": "01cf0044",
   "metadata": {},
   "outputs": [
    {
     "name": "stdout",
     "output_type": "stream",
     "text": [
      "🚀 Running integrated system (unlimited)...\n",
      "Press 'q' in the video window to stop\n",
      "🔧 Initializing system components...\n",
      "   ✅ Video stream: 640x480 @ 30.0fps\n",
      "   ✅ Motion detector initialized\n",
      "   ✅ Face database: 5 face samples loaded\n",
      "   ✅ Integrated processor ready\n",
      "\n",
      "🚀 System initialized with 5 known faces!\n",
      "🎬 Starting integrated system...\n",
      "📋 Instructions:\n",
      "   - Move to trigger motion detection\n",
      "   - Face recognition activates when motion detected\n",
      "   - Press 'q' to quit, 's' for stats\n",
      "\n",
      "⏰ Starting in 3 seconds...\n",
      "\n",
      "⚠️ Interrupted by user\n",
      "\n",
      "🏁 Session Complete (25.4s)\n",
      "\n",
      "📊 Statistics (25.4s):\n",
      "   - frames_processed: 235\n",
      "   - motion_detected: 40\n",
      "   - faces_detected: 23\n",
      "   - faces_recognized: 11\n",
      "   - recognition_events: 9\n",
      "\n",
      "📊 Recognition events: 10\n",
      "   1. Trung (confidence: 0.66) at 15:13:11\n",
      "   2. Trung (confidence: 0.61) at 15:13:11\n",
      "   3. Trung (confidence: 0.65) at 15:13:10\n",
      "   4. Trung (confidence: 0.62) at 15:13:10\n",
      "   5. Trung (confidence: 0.65) at 15:13:09\n",
      "✅ System cleanup complete\n",
      "\n",
      "🎉 Session complete!\n",
      "📊 Final stats: {'frames_processed': 235, 'motion_detected': 40, 'faces_detected': 23, 'faces_recognized': 11, 'recognition_events': 9}\n"
     ]
    }
   ],
   "source": [
    "# Cell 4: Run Integrated System (Unlimited - until 'q' pressed)\n",
    "print(\"🚀 Running integrated system (unlimited)...\")\n",
    "print(\"Press 'q' in the video window to stop\")\n",
    "\n",
    "stats = quick_integrated_system(duration=None)  # No time limit\n",
    "\n",
    "print(f\"\\n🎉 Session complete!\")\n",
    "print(f\"📊 Final stats: {stats}\")"
   ]
  }
 ],
 "metadata": {
  "kernelspec": {
   "display_name": "face_recognition_env",
   "language": "python",
   "name": "python3"
  },
  "language_info": {
   "codemirror_mode": {
    "name": "ipython",
    "version": 3
   },
   "file_extension": ".py",
   "mimetype": "text/x-python",
   "name": "python",
   "nbconvert_exporter": "python",
   "pygments_lexer": "ipython3",
   "version": "3.13.2"
  }
 },
 "nbformat": 4,
 "nbformat_minor": 5
}
