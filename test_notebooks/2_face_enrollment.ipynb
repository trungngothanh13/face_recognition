{
 "cells": [
  {
   "cell_type": "code",
   "execution_count": 1,
   "id": "be6b29ed",
   "metadata": {},
   "outputs": [
    {
     "name": "stdout",
     "output_type": "stream",
     "text": [
      "✅ Face enrollment system ready!\n",
      "📋 Available functions:\n",
      "   - quick_enroll('Your Name') - Enroll a new person\n",
      "   - quick_test() - Test face recognition\n"
     ]
    }
   ],
   "source": [
    "# Cell 1: Setup and Imports\n",
    "import sys\n",
    "import os\n",
    "\n",
    "# Add project directory to path\n",
    "project_dir = os.path.abspath('..')\n",
    "if project_dir not in sys.path:\n",
    "    sys.path.append(project_dir)\n",
    "\n",
    "# Import our enrollment module\n",
    "from src.processing.face_enrollment import quick_enroll, quick_test\n",
    "from src.data.face_database import FaceDatabase\n",
    "\n",
    "print(\"✅ Face enrollment system ready!\")\n",
    "print(\"📋 Available functions:\")\n",
    "print(\"   - quick_enroll('Your Name') - Enroll a new person\")\n",
    "print(\"   - quick_test() - Test face recognition\")"
   ]
  },
  {
   "cell_type": "code",
   "execution_count": 2,
   "id": "7674ceff",
   "metadata": {},
   "outputs": [
    {
     "name": "stdout",
     "output_type": "stream",
     "text": [
      "📊 Current Database Status:\n",
      "   - Face samples: 0\n",
      "   - Recognition events: 0\n"
     ]
    }
   ],
   "source": [
    "# Cell 2: Check Database Status\n",
    "face_db = FaceDatabase()\n",
    "stats = {\n",
    "    \"faces\": face_db.faces_collection.count_documents({}),\n",
    "    \"events\": face_db.events_collection.count_documents({})\n",
    "}\n",
    "\n",
    "print(f\"📊 Current Database Status:\")\n",
    "print(f\"   - Face samples: {stats['faces']}\")\n",
    "print(f\"   - Recognition events: {stats['events']}\")\n",
    "\n",
    "# Show existing people if any\n",
    "if stats['faces'] > 0:\n",
    "    pipeline = [{\"$group\": {\"_id\": \"$name\", \"samples\": {\"$sum\": 1}}}]\n",
    "    people = list(face_db.faces_collection.aggregate(pipeline))\n",
    "    print(f\"\\n👥 Enrolled people:\")\n",
    "    for person in people:\n",
    "        print(f\"   - {person['_id']}: {person['samples']} samples\")\n",
    "\n",
    "face_db.close()"
   ]
  },
  {
   "cell_type": "code",
   "execution_count": null,
   "id": "dda161a5",
   "metadata": {},
   "outputs": [
    {
     "name": "stdout",
     "output_type": "stream",
     "text": [
      "🚀 Starting enrollment for: Trung\n",
      "🎯 Starting face enrollment for: Trung\n",
      "📸 Will capture 5 samples with 2.0s delay between each\n",
      "📋 Instructions:\n",
      "   - Look directly at the camera\n",
      "   - Keep your face well-lit\n",
      "   - Move slightly between samples for variety\n",
      "   - Press 'q' to quit early\n",
      "\n",
      "⏰ Starting in 3 seconds...\n",
      "✅ Captured sample 1/5\n",
      "✅ Captured sample 2/5\n",
      "✅ Captured sample 3/5\n",
      "✅ Captured sample 4/5\n",
      "✅ Captured sample 5/5\n",
      "\n",
      "💾 Saving 5 samples to database...\n",
      "   ✅ Saved sample 1 with ID: 684e696ec09c88a1e9f23583\n",
      "   ✅ Saved sample 2 with ID: 684e696ec09c88a1e9f23584\n",
      "   ✅ Saved sample 3 with ID: 684e696ec09c88a1e9f23585\n",
      "   ✅ Saved sample 4 with ID: 684e696ec09c88a1e9f23586\n",
      "   ✅ Saved sample 5 with ID: 684e696ec09c88a1e9f23587\n",
      "🎉 Successfully enrolled Trung with 5 samples!\n",
      "\n",
      "📊 Updated Database Stats:\n",
      "   - Total face samples: 5\n",
      "   - Unique people: 1\n",
      "   - Recognition events: 0\n",
      "🎉 Successfully enrolled Trung!\n",
      "🧪 Testing face recognition...\n",
      "🧪 Testing face recognition...\n",
      "📋 Instructions:\n",
      "   - Look at the camera\n",
      "   - The system will try to recognize you\n",
      "   - Press 'q' to quit\n",
      "📚 Loaded 5 face samples from database\n",
      "✅ Recognition test completed!\n",
      "\n",
      "📊 Recent recognition events: 5\n",
      "   1. Trung (confidence: 0.79) at 2025-06-15 13:35:34\n",
      "   2. Trung (confidence: 0.78) at 2025-06-15 13:35:33\n",
      "   3. Trung (confidence: 0.78) at 2025-06-15 13:35:33\n",
      "   4. Trung (confidence: 0.77) at 2025-06-15 13:35:32\n",
      "   5. Trung (confidence: 0.74) at 2025-06-15 13:35:31\n",
      "📊 Final Database Status:\n",
      "   - Face samples: 5\n",
      "   - Recognition events: 65\n",
      "✅ Enrollment session complete!\n"
     ]
    }
   ],
   "source": [
    "# Cell 3: Enroll Your Face\n",
    "YOUR_NAME = \"Trung\"\n",
    "\n",
    "print(f\"🚀 Starting enrollment for: {YOUR_NAME}\")\n",
    "success = quick_enroll(YOUR_NAME, num_samples=5)\n",
    "\n",
    "if success:\n",
    "    print(f\"🎉 Successfully enrolled {YOUR_NAME}!\")\n",
    "else:\n",
    "    print(f\"❌ Enrollment failed for {YOUR_NAME}\")"
   ]
  },
  {
   "cell_type": "code",
   "execution_count": null,
   "id": "9af8aac1",
   "metadata": {},
   "outputs": [],
   "source": [
    "# Cell 4: Test Recognition\n",
    "print(\"🧪 Testing face recognition...\")\n",
    "quick_test()"
   ]
  },
  {
   "cell_type": "code",
   "execution_count": null,
   "id": "6c59a7e5",
   "metadata": {},
   "outputs": [],
   "source": [
    "# Cell 5: Final Stats\n",
    "face_db = FaceDatabase()\n",
    "final_stats = {\n",
    "    \"faces\": face_db.faces_collection.count_documents({}),\n",
    "    \"events\": face_db.events_collection.count_documents({})\n",
    "}\n",
    "\n",
    "print(f\"📊 Final Database Status:\")\n",
    "print(f\"   - Face samples: {final_stats['faces']}\")\n",
    "print(f\"   - Recognition events: {final_stats['events']}\")\n",
    "\n",
    "face_db.close()\n",
    "print(\"✅ Enrollment session complete!\")"
   ]
  }
 ],
 "metadata": {
  "kernelspec": {
   "display_name": "face_recognition_env",
   "language": "python",
   "name": "python3"
  },
  "language_info": {
   "codemirror_mode": {
    "name": "ipython",
    "version": 3
   },
   "file_extension": ".py",
   "mimetype": "text/x-python",
   "name": "python",
   "nbconvert_exporter": "python",
   "pygments_lexer": "ipython3",
   "version": "3.13.2"
  }
 },
 "nbformat": 4,
 "nbformat_minor": 5
}
