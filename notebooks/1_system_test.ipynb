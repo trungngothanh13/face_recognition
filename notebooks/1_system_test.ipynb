{
 "cells": [
  {
   "cell_type": "code",
   "execution_count": 14,
   "id": "46db0b44",
   "metadata": {},
   "outputs": [],
   "source": [
    "import sys\n",
    "import os\n",
    "import json\n",
    "\n",
    "# Add the project directory to the path\n",
    "project_dir = os.path.abspath('..')\n",
    "if project_dir not in sys.path:\n",
    "    sys.path.append(project_dir)\n",
    "\n",
    "# Now you can import your modules\n",
    "from src.data.video_stream import VideoStream\n",
    "from src.processing.motion_detector import MotionDetector\n",
    "from src.data.database import get_database, test_connection\n",
    "from src.utils.config_loader import load_config"
   ]
  },
  {
   "cell_type": "code",
   "execution_count": 15,
   "id": "980d1f12",
   "metadata": {},
   "outputs": [
    {
     "name": "stdout",
     "output_type": "stream",
     "text": [
      "{\n",
      "    \"video\": {\n",
      "        \"source\": 0,\n",
      "        \"frame_width\": 640,\n",
      "        \"frame_height\": 480,\n",
      "        \"fps\": 30\n",
      "    },\n",
      "    \"motion_detection\": {\n",
      "        \"enabled\": true,\n",
      "        \"threshold\": 25,\n",
      "        \"min_area\": 500\n",
      "    },\n",
      "    \"face_detection\": {\n",
      "        \"enabled\": true,\n",
      "        \"detection_model\": \"combined\",\n",
      "        \"min_confidence\": 0.5,\n",
      "        \"min_face_size\": 80,\n",
      "        \"max_face_size\": 400,\n",
      "        \"min_quality_score\": 0.3,\n",
      "        \"use_tracking\": true,\n",
      "        \"available_models\": [\n",
      "            \"opencv\",\n",
      "            \"dlib\",\n",
      "            \"combined\"\n",
      "        ],\n",
      "        \"quality_thresholds\": {\n",
      "            \"high_quality\": 0.7,\n",
      "            \"medium_quality\": 0.5,\n",
      "            \"low_quality\": 0.3\n",
      "        }\n",
      "    },\n",
      "    \"face_recognition\": {\n",
      "        \"enabled\": true,\n",
      "        \"model\": \"hog\",\n",
      "        \"recognition_threshold\": 0.6,\n",
      "        \"unknown_face_threshold\": 0.7,\n",
      "        \"max_distance\": 0.6,\n",
      "        \"num_jitters\": 1,\n",
      "        \"model_complexity\": 1\n",
      "    },\n",
      "    \"database\": {\n",
      "        \"mongodb_uri\": \"mongodb://localhost:27017/\",\n",
      "        \"database_name\": \"face_recognition_db\",\n",
      "        \"face_collection\": \"faces\",\n",
      "        \"event_collection\": \"recognition_events\"\n",
      "    },\n",
      "    \"performance\": {\n",
      "        \"frame_skip\": 1,\n",
      "        \"detection_interval\": 3,\n",
      "        \"tracking_timeout\": 10,\n",
      "        \"max_faces_per_frame\": 5\n",
      "    },\n",
      "    \"logging\": {\n",
      "        \"level\": \"INFO\",\n",
      "        \"log_file\": \"logs/face_recognition.log\",\n",
      "        \"max_file_size\": \"10MB\",\n",
      "        \"backup_count\": 5\n",
      "    }\n",
      "}\n"
     ]
    }
   ],
   "source": [
    "# Load configuration\n",
    "config = load_config()\n",
    "print(json.dumps(config, indent=4))"
   ]
  },
  {
   "cell_type": "code",
   "execution_count": 16,
   "id": "6c4aa381",
   "metadata": {},
   "outputs": [
    {
     "name": "stdout",
     "output_type": "stream",
     "text": [
      "Successfully connected to MongoDB. Collections: ['recognition_events', 'faces']\n"
     ]
    },
    {
     "data": {
      "text/plain": [
       "True"
      ]
     },
     "execution_count": 16,
     "metadata": {},
     "output_type": "execute_result"
    }
   ],
   "source": [
    "# Test MongoDB connection\n",
    "test_connection()"
   ]
  },
  {
   "cell_type": "code",
   "execution_count": 17,
   "id": "cb05957d",
   "metadata": {},
   "outputs": [
    {
     "name": "stdout",
     "output_type": "stream",
     "text": [
      "Initializing Enhanced Face Processor with combined mode...\n",
      "✅ OpenCV Haar cascades loaded successfully!\n",
      "✅ dlib face detector loaded successfully!\n",
      "Available methods: OpenCV=✅, dlib=✅\n",
      "Enhanced Face Processor ready!\n",
      "Testing enhanced detection...\n",
      "Found 1 faces\n",
      "Found 1 faces\n",
      "Found 1 faces\n",
      "Found 1 faces\n",
      "Found 1 faces\n",
      "Found 1 faces\n",
      "Found 1 faces\n",
      "Found 1 faces\n",
      "Found 1 faces\n",
      "Found 1 faces\n",
      "Found 1 faces\n",
      "Found 1 faces\n",
      "Found 1 faces\n",
      "Found 1 faces\n",
      "Found 1 faces\n",
      "Found 1 faces\n",
      "Found 1 faces\n",
      "Found 1 faces\n",
      "Found 1 faces\n"
     ]
    }
   ],
   "source": [
    "# This should now work without any errors:\n",
    "from src.processing.enhanced_face_processor import EnhancedFaceProcessor\n",
    "from src.data.video_stream import VideoStream\n",
    "import cv2\n",
    "\n",
    "# Create processor - no more errors!\n",
    "processor = EnhancedFaceProcessor(detection_model=\"combined\")\n",
    "\n",
    "# Quick test\n",
    "stream = VideoStream(0).start()\n",
    "try:\n",
    "    print(\"Testing enhanced detection...\")\n",
    "    for i in range(30):\n",
    "        ret, frame = stream.read()\n",
    "        if not ret:\n",
    "            break\n",
    "        \n",
    "        processed_frame, results = processor.process_frame(frame)\n",
    "        cv2.imshow(\"Enhanced Detection\", processed_frame)\n",
    "        \n",
    "        if results:\n",
    "            print(f\"Found {len(results)} faces\")\n",
    "        \n",
    "        if cv2.waitKey(1) & 0xFF == ord('q'):\n",
    "            break\n",
    "finally:\n",
    "    stream.stop()\n",
    "    cv2.destroyAllWindows()"
   ]
  }
 ],
 "metadata": {
  "kernelspec": {
   "display_name": "face_recognition_env",
   "language": "python",
   "name": "python3"
  },
  "language_info": {
   "codemirror_mode": {
    "name": "ipython",
    "version": 3
   },
   "file_extension": ".py",
   "mimetype": "text/x-python",
   "name": "python",
   "nbconvert_exporter": "python",
   "pygments_lexer": "ipython3",
   "version": "3.13.2"
  }
 },
 "nbformat": 4,
 "nbformat_minor": 5
}
